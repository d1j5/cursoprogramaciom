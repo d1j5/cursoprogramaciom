{
  "nbformat": 4,
  "nbformat_minor": 0,
  "metadata": {
    "colab": {
      "provenance": []
    },
    "kernelspec": {
      "name": "python3",
      "display_name": "Python 3"
    },
    "language_info": {
      "name": "python"
    }
  },
  "cells": [
    {
      "cell_type": "markdown",
      "source": [
        "TALLER #3\n",
        "\n"
      ],
      "metadata": {
        "id": "xcuXWYFse-cD"
      }
    },
    {
      "cell_type": "code",
      "execution_count": 18,
      "metadata": {
        "colab": {
          "base_uri": "https://localhost:8080/"
        },
        "id": "LgjT_ybBe2Q8",
        "outputId": "83d765b1-4f1a-4d9d-e6f6-7b69cc47c903"
      },
      "outputs": [
        {
          "output_type": "stream",
          "name": "stdout",
          "text": [
            "name86545464\n",
            "apellido65465464\n",
            "id5456456\n",
            "telefono654654\n",
            "direccion564546\n",
            "estado civil 6545645\n",
            "edad55\n",
            "numero de hijos2\n",
            "estatura170\n",
            "fecha de contratacion2022\n",
            "dias laborados365\n",
            "sueldo basico1200000\n",
            "cuanto es el sueldo basico1200000\n",
            "valor de comision es= $24,000 y sueldo total es= $1,224,000\n",
            "\n",
            "sueldo total $1,200,000\n",
            "digite el numero de dias21\n",
            "el bono es= $4 y el total a pagar es=25\n"
          ]
        }
      ],
      "source": [
        "# informacion personal\n",
        "name = int(input(\"name\"))\n",
        "apellido = int(input(\"apellido\"))\n",
        "id = int(input(\"id\"))\n",
        "telefono = int(input(\"telefono\"))\n",
        "direccion = int(input(\"direccion\"))\n",
        "estado_civil = int(input(\"estado civil \"))\n",
        "edad = int(input(\"edad\"))\n",
        "numero_de_hijos = int(input(\"numero de hijos\"))\n",
        "estatura = int(input(\"estatura\"))\n",
        "fecha_de_contratacion = int(input(\"fecha de contratacion\"))\n",
        "dias_laborados = int(input(\"dias laborados\"))\n",
        "sueldo_basico = int(input(\"sueldo basico\"))\n",
        "# print(name +,\"apellido +,\" id +,\" telefono +,\" direccion +,\" estado civil +,\" edad +,\"numero de hijos +,\" estatura +,\"fecha de contratacion +,\"dias laborados +,\"sieldo basico +,\")\n",
        "\n",
        "# si el sueldo basico esta entre 1000000 y 1500000 tendra una comision del 2% sobre el valor del sueldo:\n",
        "# si el sueldo basico esta entre 1500001 y 2000000 tendra una comision del 5% sobre el valor del sueldo;\n",
        "# para todos los demas casos no habra comision.\n",
        "sueldo_basico = float(input(\"cuanto es el sueldo basico\"))\n",
        "\n",
        "if sueldo_basico >= 1000000 and sueldo_basico <= 1500000:\n",
        "  comi1 = sueldo_basico * 0.02\n",
        "  sueldo_basico_comi1 = sueldo_basico + comi1\n",
        "  print(\"valor de comision es= ${:,.0f} y sueldo total es= ${:,.0f}\" .format(comi1,sueldo_basico_comi1))\n",
        "elif sueldo_basico <= 1500001 and sueldo_basico >= 2000000:\n",
        "  comi2 = sueldo_basico * 0.05\n",
        "  sueldo_basico_comi1 = sueldo_basico + comi2\n",
        "  print(\"valor de comision es= ${:,.0f} y el sueldo total es= ${:,.0f}\".fotmat(comi2,sueldo_basico_comi2))\n",
        "else:\n",
        "  print(\"sin comision\")\n",
        "  \n",
        "  # si el empleado es casado y tiene hijos se le ctorgara un paseo cada diciembre\n",
        "  if estado_civil == \"casado\" and numero_de_hijos >= 2:\n",
        "    print(\"es ganardor del viaje pago cada diciembre\")\n",
        "  else:\n",
        "    print(\"no es ganador del viaje pago cada diciembre\")\n",
        "\n",
        " # sin el empleado es mayo a 55 años disfrutara de un bono de prepension correspondiente al 5% de su sueldo basico.\n",
        "if edad  > 55:\n",
        "  bono = sueldo_basico * 0.55\n",
        "  sueldo_basico_total = sueldo_basico + bono\n",
        "  print(\"\\nbono de prepension es= ${:,.0f} \\nsueldo total es= ${:,.0f}\".format(bono,sueldo_basico_total))\n",
        "else:\n",
        "   print(f\"\\nsueldo total ${sueldo_basico:,.0f}\")\n",
        "\n",
        "  # si el empleado trabajo mas de 20 dias al mes y su sueldo es menor a 1000000 tendra derecho a un bono de alimentacion\n",
        "   sueldo_basico = float(input(\"digite el numero de dias\"))\n",
        "if sueldo_basico <  1000000:\n",
        "  bono = sueldo_basico * 0.20\n",
        "  total = sueldo_basico + bono \n",
        "  print(\"el bono es= ${:,.0f} y el total a pagar es={:,.0f}\".format(bono,total)) \n",
        "else:\n",
        "  print(\"no tiene el bono , el total a pagar es= ${:,.0f}\".format(sueldo_basico))\n"
      ]
    },
    {
      "cell_type": "code",
      "source": [],
      "metadata": {
        "id": "X5j6O_DDQ-WP"
      },
      "execution_count": null,
      "outputs": []
    },
    {
      "cell_type": "markdown",
      "source": [],
      "metadata": {
        "id": "3AuLctdue8Zu"
      }
    }
  ]
}