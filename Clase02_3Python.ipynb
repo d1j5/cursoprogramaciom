{
  "nbformat": 4,
  "nbformat_minor": 0,
  "metadata": {
    "colab": {
      "provenance": []
    },
    "kernelspec": {
      "name": "python3",
      "display_name": "Python 3"
    },
    "language_info": {
      "name": "python"
    }
  },
  "cells": [
    {
      "cell_type": "code",
      "source": [
        "# un alumno desea saber cual sera su calificacion final en la materia de algoritmos.dicha\n",
        "# calificacion se compone de 3 examenes parciales.\n",
        "exam1 = float(input(\"digite el exam1 \"))\n",
        "exam2 = float(input(\"digite el exam2 \"))\n",
        "exam3 = float(input(\"digite el exam3 \"))\n",
        "\n",
        "cali = round((exam1 + exam2 + exam3) / 3 , 2)\n",
        "print(f\"la calificacion es= {cali}\")"
      ],
      "metadata": {
        "colab": {
          "base_uri": "https://localhost:8080/"
        },
        "id": "ScCib1FffSA6",
        "outputId": "c122a5c2-f5c1-43ab-9b2f-49039b66d3fa"
      },
      "execution_count": null,
      "outputs": [
        {
          "output_type": "stream",
          "name": "stdout",
          "text": [
            "digite el exam1 4.5\n",
            "digite el exam2 4.0\n",
            "digite el exam3 3.2\n",
            "la calificacion es= 3.9\n"
          ]
        }
      ]
    }
  ]
}