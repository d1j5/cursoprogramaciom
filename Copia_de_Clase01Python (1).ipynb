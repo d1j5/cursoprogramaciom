{
  "nbformat": 4,
  "nbformat_minor": 0,
  "metadata": {
    "colab": {
      "provenance": []
    },
    "kernelspec": {
      "name": "python3",
      "display_name": "Python 3"
    },
    "language_info": {
      "name": "python"
    }
  },
  "cells": [
    {
      "cell_type": "code",
      "execution_count": null,
      "metadata": {
        "colab": {
          "base_uri": "https://localhost:8080/"
        },
        "id": "YBdbXbXAuQF6",
        "outputId": "ca578c82-fe6f-492f-8707-d1757ffd5ef9"
      },
      "outputs": [
        {
          "output_type": "stream",
          "name": "stdout",
          "text": [
            "Daniela Alexandra\n",
            "Gonzalez Rodriguez\n",
            "1007568604\n"
          ]
        }
      ],
      "source": [
        "nombre = \"Daniela Alexandra\"\n",
        "print(nombre)\n",
        "apellido = \"Gonzalez Rodriguez\"\n",
        "print(apellido)\n",
        "id = 1007568604\n",
        "print(id)"
      ]
    },
    {
      "cell_type": "code",
      "source": [
        "edad = 25 \n",
        "print(edad)\n",
        "anddress = \"cra 93 128 f 20\"\n",
        "print(anddress)\n"
      ],
      "metadata": {
        "colab": {
          "base_uri": "https://localhost:8080/"
        },
        "id": "fJk-s0jfvCVZ",
        "outputId": "430f3597-7051-4c9f-d6c1-75e7f8504c48"
      },
      "execution_count": null,
      "outputs": [
        {
          "output_type": "stream",
          "name": "stdout",
          "text": [
            "25\n",
            "cra 93 128 f 20\n"
          ]
        }
      ]
    },
    {
      "cell_type": "code",
      "source": [
        "civilstatus = \"soltera\"\n",
        "print(civilstatus)\n",
        "phone = 3043444337\n",
        "print(phone)"
      ],
      "metadata": {
        "colab": {
          "base_uri": "https://localhost:8080/"
        },
        "id": "DiU_sD9vwKGT",
        "outputId": "7a43ae19-d485-4ff8-c416-771e5ec4c351"
      },
      "execution_count": null,
      "outputs": [
        {
          "output_type": "stream",
          "name": "stdout",
          "text": [
            "soltera\n",
            "3043444337\n"
          ]
        }
      ]
    },
    {
      "cell_type": "code",
      "source": [
        "numberofchildre = 0\n",
        "print(numberofchildre)\n",
        "height = \"1.56cm\"\n",
        "print(height)\n",
        "dateofgire = \"dia 18\"\n",
        "print(dateofgire)\n",
        "mes = \"agosto\"\n",
        "print(mes)\n",
        "año = 2022\n",
        "print(año)\n"
      ],
      "metadata": {
        "colab": {
          "base_uri": "https://localhost:8080/"
        },
        "id": "tRhILlshwiQa",
        "outputId": "3ae8e782-e22d-4a04-e620-58ed24c0ba5a"
      },
      "execution_count": null,
      "outputs": [
        {
          "output_type": "stream",
          "name": "stdout",
          "text": [
            "0\n",
            "1.56cm\n",
            "dia 18\n",
            "agosto\n",
            "2022\n"
          ]
        }
      ]
    },
    {
      "cell_type": "code",
      "source": [
        "salary = 1300000\n",
        "print(salary)\n",
        "workingdays = 1.095\n",
        "print(workingdays)"
      ],
      "metadata": {
        "colab": {
          "base_uri": "https://localhost:8080/"
        },
        "id": "tNiLjjyIxoth",
        "outputId": "536dabe7-fe6d-4964-a3b4-c66448692125"
      },
      "execution_count": null,
      "outputs": [
        {
          "output_type": "stream",
          "name": "stdout",
          "text": [
            "1300000\n",
            "1.095\n"
          ]
        }
      ]
    }
  ]
}