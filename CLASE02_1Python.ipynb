{
  "nbformat": 4,
  "nbformat_minor": 0,
  "metadata": {
    "colab": {
      "provenance": []
    },
    "kernelspec": {
      "name": "python3",
      "display_name": "Python 3"
    },
    "language_info": {
      "name": "python"
    }
  },
  "cells": [
    {
      "cell_type": "markdown",
      "source": [
        "**TALLE** # **2**"
      ],
      "metadata": {
        "id": "HdzNRe4Lo4ke"
      }
    },
    {
      "cell_type": "code",
      "source": [
        "\n",
        "# valor de la sale1\n",
        "sale1 = float(input(\"¿cuanto es el valor del sale1\"))\n",
        "# calculo de la comision\n",
        "comision = sale1 * 0.10\n",
        "# suma de la comision mas la sale1\n",
        "total = sale1 + comision\n",
        "print(\"la comision es= ${:,.0f} \".format(comision,total))\n",
        "\n",
        "# valor de la sale2\n",
        "sale2 = float(input(\"¿cuanto es el valor del sale2?\"))\n",
        "# calculo de la comision\n",
        "comision = sale2 * 0.10\n",
        "# suma de la comision mas sale2\n",
        "total = sale2 + comision \n",
        "print(\"la comision es= ${:,.0f} \".format(comision,total))\n",
        "\n",
        "# valor de la sale3\n",
        "sale3 = float(input(\"¿cuanto es el valor del sale3?\"))\n",
        "# calculo de la comision\n",
        "comision = sale3 * 0.10\n",
        "# suma de la comision mas sale3\n",
        "total = sale3 + comision\n",
        "print(\"la comision es= ${:,.0f}\".format(comision,total))\n",
        "\n"
      ],
      "metadata": {
        "colab": {
          "base_uri": "https://localhost:8080/"
        },
        "id": "vIjviyOZEDBv",
        "outputId": "3cfc71ec-78b3-4348-dff2-376b83bf259c"
      },
      "execution_count": null,
      "outputs": [
        {
          "output_type": "stream",
          "name": "stdout",
          "text": [
            "¿cuanto es el valor del sale1 350000\n",
            "la comision es= $35,000 \n",
            "¿cuanto es el valor del sale2? 450000\n",
            "la comision es= $45,000 \n",
            "¿cuanto es el valor del sale3? 650000\n",
            "la comision es= $65,000\n"
          ]
        }
      ]
    },
    {
      "cell_type": "code",
      "source": [
        "\n",
        "salary= float(input(\"¿cuanto es el salary\"))\n",
        "# calculo salary mas comision\n",
        "comision = salary + 0.10\n",
        "# la suma de la comision mas el salary\n",
        "total = salary + comision\n",
        "print(\"el salary es= ${:,.0f}\".format(salary))\n",
        "\n"
      ],
      "metadata": {
        "colab": {
          "base_uri": "https://localhost:8080/"
        },
        "id": "li-d_Q6nYcvD",
        "outputId": "924f359f-c862-43ce-be0a-62ab3f001a12"
      },
      "execution_count": null,
      "outputs": [
        {
          "output_type": "stream",
          "name": "stdout",
          "text": [
            "¿cuanto es el salary 1200000\n",
            "el salary es= $1,200,000\n"
          ]
        }
      ]
    },
    {
      "cell_type": "code",
      "source": [
        "comision1= float(input(\"digite el valor\"))\n",
        "comision2 = float(input(\"digite el valor\"))\n",
        "comision3 = float(input(\"digite el valor\"))\n",
        "res = comision1 + comision2 + comision3\n",
        "print(res)"
      ],
      "metadata": {
        "colab": {
          "base_uri": "https://localhost:8080/"
        },
        "id": "-_QlCObI9ydb",
        "outputId": "fd98c907-6d37-47f8-e2dc-740983e5e7d6"
      },
      "execution_count": null,
      "outputs": [
        {
          "output_type": "stream",
          "name": "stdout",
          "text": [
            "digite el valor35000\n",
            "digite el valor45000\n",
            "digite el valor65000\n",
            "145000.0\n"
          ]
        }
      ]
    },
    {
      "cell_type": "code",
      "source": [
        "comision = float(input(\"digite el valor\"))\n",
        "salary  = float(input(\"digite el valor\"))\n",
        "res = comision + salary\n",
        "print(res)\n",
        "  \n"
      ],
      "metadata": {
        "colab": {
          "base_uri": "https://localhost:8080/"
        },
        "id": "XvE1SVfJzY1r",
        "outputId": "dd501fcb-185d-4853-c000-6dbae094a99b"
      },
      "execution_count": null,
      "outputs": [
        {
          "output_type": "stream",
          "name": "stdout",
          "text": [
            "digite el valor 145000\n",
            "digite el valor 1200000\n",
            "1345000.0\n"
          ]
        }
      ]
    },
    {
      "cell_type": "markdown",
      "source": [],
      "metadata": {
        "id": "i2p5rsKJ9IPJ"
      }
    }
  ]
}