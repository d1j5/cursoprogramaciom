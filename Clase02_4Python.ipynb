{
  "nbformat": 4,
  "nbformat_minor": 0,
  "metadata": {
    "colab": {
      "provenance": []
    },
    "kernelspec": {
      "name": "python3",
      "display_name": "Python 3"
    },
    "language_info": {
      "name": "python"
    }
  },
  "cells": [
    {
      "cell_type": "code",
      "source": [
        "# un profesor desea saber que porcentaje de hombres y que porcentaje de mujeres\n",
        "# hay en un grupo de estudiantes \n",
        "women  = float(input(\"numero de women  \" ))\n",
        "man = float(input(\"numero de man \"))\n",
        "res = women + man \n",
        "print( res)\n"
      ],
      "metadata": {
        "colab": {
          "base_uri": "https://localhost:8080/"
        },
        "id": "ScCib1FffSA6",
        "outputId": "0e3decc8-7835-430e-bfdc-16cdd92477c9"
      },
      "execution_count": 5,
      "outputs": [
        {
          "output_type": "stream",
          "name": "stdout",
          "text": [
            "numero de women  14\n",
            "numero de man 10\n",
            "24.0\n"
          ]
        }
      ]
    }
  ]
}