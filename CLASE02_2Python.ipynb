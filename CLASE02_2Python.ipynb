{
  "nbformat": 4,
  "nbformat_minor": 0,
  "metadata": {
    "colab": {
      "provenance": []
    },
    "kernelspec": {
      "name": "python3",
      "display_name": "Python 3"
    },
    "language_info": {
      "name": "python"
    }
  },
  "cells": [
    {
      "cell_type": "markdown",
      "source": [
        "PUNTO 2 DEL TALLER"
      ],
      "metadata": {
        "id": "kPWRFtRGxDe1"
      }
    },
    {
      "cell_type": "code",
      "source": [
        "# una tienda ofrece un descuento del 15% sobre el total de la compra y un cliente \n",
        "# desea saber cuanto debera pagar finalmente por su compra\n",
        "compra = float(input(\"¿cuanto es el valor de la compra?\"))\n",
        "# calculo del descuento\n",
        "descuento = compra * 0.15\n",
        "# suma de compra mas descuento\n",
        "total = compra - descuento \n",
        "# muestro total del descuento\n",
        "print(\"el descuento es= ${:,.0f} y el total a pagar es= ${:,.0f}\".format(descuento,total))\n"
      ],
      "metadata": {
        "colab": {
          "base_uri": "https://localhost:8080/"
        },
        "id": "jhiCjVEFupaM",
        "outputId": "ae88a6ef-fdcf-4178-84f0-49de64277e6a"
      },
      "execution_count": 1,
      "outputs": [
        {
          "output_type": "stream",
          "name": "stdout",
          "text": [
            "¿cuanto es el valor de la compra? 650930\n",
            "el descuento es= $97,640 y el total a pagar es= $553,290\n"
          ]
        }
      ]
    },
    {
      "cell_type": "markdown",
      "source": [],
      "metadata": {
        "id": "uz9tr9yUxBA6"
      }
    },
    {
      "cell_type": "markdown",
      "source": [],
      "metadata": {
        "id": "TFLZShDVxBPL"
      }
    },
    {
      "cell_type": "markdown",
      "source": [],
      "metadata": {
        "id": "Wg_Wk3iixCPu"
      }
    }
  ]
}